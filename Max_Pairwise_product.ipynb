{
 "cells": [
  {
   "cell_type": "code",
   "execution_count": 5,
   "metadata": {
    "collapsed": false
   },
   "outputs": [
    {
     "name": "stdout",
     "output_type": "stream",
     "text": [
      "Please enter the data2 9 3 1 9\n",
      "81\n"
     ]
    }
   ],
   "source": [
    "def data():\n",
    "    data = raw_input(\"Please enter the data\")\n",
    "    data = data.split(\" \")\n",
    "    return data\n",
    "\n",
    "def max_pairwise_sum(data):\n",
    "    _data = sorted(data)[::-1]\n",
    "    return int(_data[0])*int(_data[1])\n",
    "\n",
    "D = data()\n",
    "print max_pairwise_sum(D)\n",
    "    "
   ]
  }
 ],
 "metadata": {
  "kernelspec": {
   "display_name": "Python 2",
   "language": "python",
   "name": "python2"
  },
  "language_info": {
   "codemirror_mode": {
    "name": "ipython",
    "version": 2
   },
   "file_extension": ".py",
   "mimetype": "text/x-python",
   "name": "python",
   "nbconvert_exporter": "python",
   "pygments_lexer": "ipython2",
   "version": "2.7.10"
  }
 },
 "nbformat": 4,
 "nbformat_minor": 1
}
