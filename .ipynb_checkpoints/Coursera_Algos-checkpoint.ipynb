{
 "cells": [
  {
   "cell_type": "code",
   "execution_count": 5,
   "metadata": {
    "collapsed": false
   },
   "outputs": [
    {
     "name": "stdout",
     "output_type": "stream",
     "text": [
      "Please enter the data2 9 3 1 9\n",
      "81\n"
     ]
    }
   ],
   "source": [
    "def data():\n",
    "    data = raw_input(\"Please enter the data\")\n",
    "    data = data.split(\" \")\n",
    "    return data\n",
    "\n",
    "def max_pairwise_sum(data):\n",
    "    _data = sorted(data)[::-1]\n",
    "    return int(_data[0])*int(_data[1])\n",
    "\n",
    "D = data()\n",
    "print max_pairwise_sum(D)\n",
    "    "
   ]
  },
  {
   "cell_type": "code",
   "execution_count": 4,
   "metadata": {
    "collapsed": false
   },
   "outputs": [
    {
     "name": "stdout",
     "output_type": "stream",
     "text": [
      "True\n"
     ]
    }
   ],
   "source": [
    "def isBalanced(string):\n",
    "    stack = []\n",
    "    for char in string:\n",
    "        if char in \"(\" or \"[\":\n",
    "            stack.append(char)\n",
    "        else:\n",
    "            if len(stack) == 0:\n",
    "                return False\n",
    "            top = stack.pop()\n",
    "            if top == \"[\" and not \"]\" or top == \"(\" and not \")\":\n",
    "                return False\n",
    "    return True\n",
    "\n",
    "print isBalanced(\"([)dfokdf\")"
   ]
  }
 ],
 "metadata": {
  "kernelspec": {
   "display_name": "Python 2",
   "language": "python",
   "name": "python2"
  },
  "language_info": {
   "codemirror_mode": {
    "name": "ipython",
    "version": 2
   },
   "file_extension": ".py",
   "mimetype": "text/x-python",
   "name": "python",
   "nbconvert_exporter": "python",
   "pygments_lexer": "ipython2",
   "version": "2.7.10"
  }
 },
 "nbformat": 4,
 "nbformat_minor": 1
}
